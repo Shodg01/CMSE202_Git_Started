{
 "cells": [
  {
   "cell_type": "markdown",
   "metadata": {},
   "source": [
    "# Great Lakes and the Grand River\n",
    "\\* Based off a CMSE 201 assignment\n",
    "\n",
    "Were going to use Pandas or Numpy and Matplotlib to interact with some data that pertains to the water levels of the [Great Lakes](https://en.wikipedia.org/wiki/Great_Lakes) and the [discharge](https://en.wikipedia.org/wiki/Discharge_(hydrology)) of the [Grand River](https://en.wikipedia.org/wiki/Grand_River_(Michigan)).\n",
    "![picture](https://upload.wikimedia.org/wikipedia/commons/5/57/Great_Lakes_from_space_crop_labeled.jpg)"
   ]
  },
  {
   "cell_type": "markdown",
   "metadata": {},
   "source": [
    "---\n",
    "# Great Lakes"
   ]
  },
  {
   "cell_type": "code",
   "execution_count": 1,
   "metadata": {},
   "outputs": [],
   "source": [
    "# Bring in NumPy, Pandas, and Matplotlib, should be all you need to plot. \n",
    "# IF you need more make sure to notify your group.\n",
    "import numpy as np\n",
    "import pandas as pd\n",
    "import matplotlib.pyplot as plt\n",
    "%matplotlib inline"
   ]
  },
  {
   "cell_type": "markdown",
   "metadata": {},
   "source": [
    "To use this notebook for your in-class assignment, you will need these files, which are available as part of the GitHub repository. They live in the \"data\" folder:\n",
    "* `mhu.csv` -- [Lake Michigan](https://en.wikipedia.org/wiki/Lake_Michigan) and [Lake Huron](https://en.wikipedia.org/wiki/Lake_Huron)\n",
    "* `sup.csv` -- [Lake Superior](https://en.wikipedia.org/wiki/Lake_Superior)\n",
    "* `eri.csv` -- [Lake Erie](https://en.wikipedia.org/wiki/Lake_Erie)\n",
    "* `ont.csv` -- [Lake Ontario](https://en.wikipedia.org/wiki/Lake_Ontario)\n",
    "\n",
    "This notebook **might look very familiar!** It is based off a CMSE 201 assignment that focused on exploring some [Great Lakes](https://en.wikipedia.org/wiki/Great_Lakes) water level data. We will be doing similar calculations with the same data to get some practice with version contol while your remind yourself of your Python skills. Make sure you **try to complete this activity without looking at the old notebook**. The old notebook came up in 201 right after you first learned how to use Matplotlib and as you began to learn about NumPy. This is good moment to reflect on how far you have come.\n",
    "\n",
    "**As instructed in the in-class activity notebook for today, you are only expected to complete one \"PART\" below. Do not worry if your group is not big enough to finish all parts below, but if you have extra time, you're welcome to do so.**"
   ]
  },
  {
   "cell_type": "markdown",
   "metadata": {},
   "source": [
    "# PART 1\n",
    "\n",
    "**Using the Michigan/Huron Dataset, plot the Water Level, the second column, as a function of time [years]**"
   ]
  },
  {
   "cell_type": "code",
   "execution_count": null,
   "metadata": {},
   "outputs": [],
   "source": [
    "# Insert Code Here\n",
    "michhur = pd.read_csv('mhu.csv')\n",
    "\n",
    "plt.plot(michhur['Michigan-Huron annual averages'], michhur['AnnAvg'], color='blue')\n",
    "plt.xlabel('time (yr)')\n",
    "plt.ylabel('water level')\n",
    "plt.title('Michigan-Huron Water Levels')"
   ]
  },
  {
   "cell_type": "markdown",
   "metadata": {},
   "source": [
    "# PART 2\n",
    "\n",
    "**Using the Superior Dataset, plot the Water Level, the second column, as a function of time [years]**"
   ]
  },
  {
   "cell_type": "code",
   "execution_count": null,
   "metadata": {},
   "outputs": [],
   "source": [
    "# Insert Code Here"
   ]
  },
  {
   "cell_type": "markdown",
   "metadata": {},
   "source": [
    "# PART 3\n",
    "\n",
    "**Using the Erie Dataset, plot the Water Level, the second column, as a function of time [years]**"
   ]
  },
  {
   "cell_type": "code",
   "execution_count": null,
   "metadata": {},
   "outputs": [],
   "source": [
    "# Insert Code Here"
   ]
  },
  {
   "cell_type": "markdown",
   "metadata": {},
   "source": [
    "# PART 4\n",
    "\n",
    "**Using the Ontario Dataset, plot the Water Level, the second column, as a function of time [years]**"
   ]
  },
  {
   "cell_type": "code",
   "execution_count": null,
   "metadata": {},
   "outputs": [],
   "source": [
    "# Insert Code Here"
   ]
  },
  {
   "cell_type": "markdown",
   "metadata": {},
   "source": [
    "# PART 5\n",
    "\n",
    "**Using the Michigan/Huron and Superior Datasets, plot the Michigan/Hurion Water Level vs Superior Water Level to see if there is any correlation between the water levels.**"
   ]
  },
  {
   "cell_type": "code",
   "execution_count": 9,
   "metadata": {},
   "outputs": [
    {
     "data": {
      "text/plain": [
       "<matplotlib.legend.Legend at 0x7fb66d418eb0>"
      ]
     },
     "execution_count": 9,
     "metadata": {},
     "output_type": "execute_result"
    },
    {
     "data": {
      "image/png": "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\n",
      "text/plain": [
       "<Figure size 432x288 with 1 Axes>"
      ]
     },
     "metadata": {
      "needs_background": "light"
     },
     "output_type": "display_data"
    }
   ],
   "source": [
    "MIHU = pd.read_csv('data/mhu.csv')\n",
    "SUP = pd.read_csv('data/sup.csv')\n",
    "\n",
    "plt.scatter(MIHU.iloc[:,0], MIHU.iloc[:,1], color='Red', label='Michigan/Hurion Water')\n",
    "plt.scatter(SUP.iloc[:,0], SUP.iloc[:,1], color='green', label='Superior Water')\n",
    "plt.legend()"
   ]
  },
  {
   "cell_type": "markdown",
   "metadata": {},
   "source": [
    "# PART 6\n",
    "\n",
    "**Using the Michigan/Hurion and Erie Datasets, plot the Michigan/Huron Water Level vs Erie Water Level to see if there is any correlation between the water levels.**"
   ]
  },
  {
   "cell_type": "code",
   "execution_count": null,
   "metadata": {},
   "outputs": [],
   "source": [
    "# Insert Code Here"
   ]
  },
  {
   "cell_type": "markdown",
   "metadata": {},
   "source": [
    "# PART 7\n",
    "\n",
    "**Using the Superior and Ontario Datasets, plot the Superior Water Level vs Ontario Water Level to see if there is any correlation between the water levels.**"
   ]
  },
  {
   "cell_type": "code",
   "execution_count": null,
   "metadata": {},
   "outputs": [],
   "source": [
    "# Insert Code Here"
   ]
  },
  {
   "cell_type": "markdown",
   "metadata": {},
   "source": [
    "# PART 8\n",
    "\n",
    "**Using the Erie and Ontario Datasets, plot the Erie Water Level vs Ontario Water Level to see if there is any correlation between the water levels.**"
   ]
  },
  {
   "cell_type": "code",
   "execution_count": null,
   "metadata": {},
   "outputs": [],
   "source": [
    "# Insert Code Here"
   ]
  },
  {
   "cell_type": "markdown",
   "metadata": {},
   "source": [
    "---\n",
    "### &#128721; STOP \n",
    "The next section is for the **Exploring the version history and moving between versions** section of today's in-class activity.\n",
    "\n",
    "---"
   ]
  },
  {
   "cell_type": "markdown",
   "metadata": {},
   "source": [
    "# Grand River\n",
    "<img src=\"https://upload.wikimedia.org/wikipedia/commons/thumb/7/75/Grand_River_%28Michigan%29_map.svg/800px-Grand_River_%28Michigan%29_map.svg.png\">"
   ]
  },
  {
   "cell_type": "markdown",
   "metadata": {},
   "source": [
    "The [Grand River](https://en.wikipedia.org/wiki/Grand_River_(Michigan)) is an important landmark in [Southern Michigan](https://en.wikipedia.org/wiki/Southern_Michigan). It is the longest river in Michigan at 252 miles (406 km) and it runs through many of the noteable cities in [Southern Michigan](https://en.wikipedia.org/wiki/Southern_Michigan), including [Lansing](https://en.wikipedia.org/wiki/Lansing,_Michigan). \"Grand River\" is also the name of a major road way, also known as [U.S. Route 16](https://en.wikipedia.org/wiki/U.S._Route_16_in_Michigan), that stretches from the rivers end point at [Lake Michigan](https://en.wikipedia.org/wiki/Lake_Michigan) in [Grand Haven](https://en.wikipedia.org/wiki/Grand_Haven,_Michigan) to [Detroit](https://en.wikipedia.org/wiki/Detroit). The river is one of the three major [tributaries](https://en.wikipedia.org/wiki/Tributary) of Lake Michigan."
   ]
  },
  {
   "cell_type": "markdown",
   "metadata": {},
   "source": [
    "Using data on the [discharge](https://en.wikipedia.org/wiki/Discharge_(hydrology)) of the [Grand River](https://en.wikipedia.org/wiki/Grand_River_(Michigan)) and water level of [Lake Michigan](https://en.wikipedia.org/wiki/Lake_Michigan)/[Lake Huron](https://en.wikipedia.org/wiki/Lake_Huron), we will see if there is any correlation between the two."
   ]
  },
  {
   "cell_type": "code",
   "execution_count": null,
   "metadata": {},
   "outputs": [],
   "source": [
    "#Importing Seaborn for regplot\n",
    "import seaborn as sns\n",
    "\n",
    "#loading in Data for Grand River from riverdata.com\n",
    "import urllib.request\n",
    "print('Beginning file download with urllib2...')\n",
    "url = 'http://riverdata.com/grand.csv'\n",
    "urllib.request.urlretrieve(url, './data/grand.csv')\n",
    "grand = pd.read_csv(\"./data/grand.csv\")\n",
    "\n",
    "#Loading in Data for mhu.csv\n",
    "mhu = pd.read_csv(\"./data/mhu.csv\")\n",
    "mhu = mhu[mhu[\"Michigan-Huron annual averages\"] >= 1935]\n",
    "grand = grand[grand[\"Calendar Year\"] <= 2015]\n",
    "grand = grand[grand[\"Calendar Year\"] >= 1935]\n",
    "\n",
    "# Setting Size of Figures\n",
    "plt.figure(figsize=(7,10))\n",
    "\n",
    "# Plotting Discharge versus time\n",
    "plt.subplot(2,1,1)\n",
    "plt.scatter(grand[\"Calendar Year\"],grand[\"Discharge (ft^3/s)\"])\n",
    "plt.xlabel(\"Calendar Years\")\n",
    "plt.ylabel(\"Discharge (ft^3/s)\")\n",
    "plt.title(\"Grand River Discharge over Time\")\n",
    "\n",
    "#Plotting Grand River Discharge versus Lake Michigan/Huron Water Level (Normalized)\n",
    "ax2 = plt.subplot(2,1,2)\n",
    "sns.regplot(grand[\"Discharge (ft^3/s)\"],mhu[\"AnnAvg\"],ax=ax2)\n",
    "plt.xlabel(\"Grand River Discharge (ft^3/s)\")\n",
    "plt.ylabel(\"Lake Michigan/Huron Water Level\")\n",
    "plt.title(\"Grand River Discharge vs Lake Michigan/Huron Water Level\")\n",
    "plt.tight_layout()"
   ]
  },
  {
   "cell_type": "markdown",
   "metadata": {},
   "source": [
    "&#169; Copyright 2020,  Michigan State University Board of Trustees."
   ]
  }
 ],
 "metadata": {
  "kernelspec": {
<<<<<<< HEAD
   "display_name": "Python 3.8",
=======
   "display_name": "Python 3 (ipykernel)",
>>>>>>> 06c9d04c2baa080d5fb648b28505ab8602139db8
   "language": "python",
   "name": "python3"
  },
  "language_info": {
   "codemirror_mode": {
    "name": "ipython",
    "version": 3
   },
   "file_extension": ".py",
   "mimetype": "text/x-python",
   "name": "python",
   "nbconvert_exporter": "python",
   "pygments_lexer": "ipython3",
<<<<<<< HEAD
   "version": "3.8.8"
=======
   "version": "3.9.17"
>>>>>>> 06c9d04c2baa080d5fb648b28505ab8602139db8
  }
 },
 "nbformat": 4,
 "nbformat_minor": 4
}
